{
 "cells": [
  {
   "cell_type": "code",
   "execution_count": 2,
   "metadata": {},
   "outputs": [],
   "source": [
    "import os\n",
    "import shutil\n",
    "\n",
    "directory = r'C:\\Users\\user\\Desktop\\SonMinseol_c3d'\n",
    "\n",
    "\n",
    "name = os.path.basename(directory).split('_')[0]"
   ]
  },
  {
   "cell_type": "code",
   "execution_count": 3,
   "metadata": {},
   "outputs": [],
   "source": [
    "for folder in os.listdir(directory):\n",
    "    \n",
    "    folder_path = os.path.join(directory, folder)\n",
    "\n",
    "    if os.path.isdir(folder_path) and folder.endswith(\"Camera\"):\n",
    "\n",
    "        original_file = os.path.join(folder_path, 'pose_0.c3d')\n",
    "\n",
    "        new_file_name = f'{name}_{folder.split(\"-\")[0]}.c3d'\n",
    "        new_file = os.path.join(folder_path, new_file_name)\n",
    "\n",
    "        if os.path.exists(original_file):\n",
    "            os.rename(original_file, new_file)\n",
    "        else:\n",
    "            print(f'Original file not found: {original_file}')\n",
    "\n",
    "        if os.path.exists(new_file):\n",
    "\n",
    "            target_path = os.path.join(directory, new_file_name)\n",
    "            shutil.move(new_file, target_path)\n",
    "            print(target_path)\n",
    "            \n",
    "        else:\n",
    "            print(f'File not found after renaming: {new_file}')"
   ]
  },
  {
   "cell_type": "code",
   "execution_count": null,
   "metadata": {},
   "outputs": [],
   "source": []
  }
 ],
 "metadata": {
  "kernelspec": {
   "display_name": "base",
   "language": "python",
   "name": "python3"
  },
  "language_info": {
   "codemirror_mode": {
    "name": "ipython",
    "version": 3
   },
   "file_extension": ".py",
   "mimetype": "text/x-python",
   "name": "python",
   "nbconvert_exporter": "python",
   "pygments_lexer": "ipython3",
   "version": "3.11.5"
  },
  "orig_nbformat": 4
 },
 "nbformat": 4,
 "nbformat_minor": 2
}
